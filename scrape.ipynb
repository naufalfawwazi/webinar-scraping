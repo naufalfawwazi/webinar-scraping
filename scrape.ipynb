{
  "nbformat": 4,
  "nbformat_minor": 0,
  "metadata": {
    "colab": {
      "provenance": []
    },
    "kernelspec": {
      "name": "python3",
      "display_name": "Python 3"
    },
    "language_info": {
      "name": "python"
    }
  },
  "cells": [
    {
      "cell_type": "code",
      "execution_count": 1,
      "metadata": {
        "id": "6IbBFO9zAcHT"
      },
      "outputs": [],
      "source": [
        "import requests\n",
        "from bs4 import BeautifulSoup"
      ]
    },
    {
      "cell_type": "code",
      "source": [
        "def game(keyword):\n",
        "  url = \"https://store.steampowered.com/search/?term=\" + keyword\n",
        "  headers = {'User-Agent': 'Mozilla/5.0 (Windows NT 10.0; Win64; x64) AppleWebKit/537.36 (KHTML, like Gecko) Chrome/102.0.0.0 Safari/537.36'}\n",
        "  source = requests.get(url, headers=headers)\n",
        "  soup = BeautifulSoup(source.text, \"html.parser\")\n",
        "  span_title = soup.find_all(\"span\", {\"class\":\"title\"})\n",
        "  div_date = soup.find_all(\"div\", {\"class\":\"col search_released responsive_secondrow\"})\n",
        "  div_price = soup.find_all(\"div\", {\"class\":\"col search_price responsive_secondrow\"})\n",
        "\n",
        "  for title,date,price in zip(span_title,div_date,div_price):\n",
        "    print('Judul Game: ' + title.text)\n",
        "    print('Tanggal Rilis: ' + date.text)\n",
        "    print('Harga Game: ' + price.text.strip())\n",
        "\n",
        "    print()"
      ],
      "metadata": {
        "id": "7X58vEIJBPF0"
      },
      "execution_count": 73,
      "outputs": []
    },
    {
      "cell_type": "code",
      "source": [
        "def drakor(keyword):\n",
        "  url = \"https://dramacool.sr/search?type=drama&keyword=\" + keyword\n",
        "  headers = {'User-Agent': 'Mozilla/5.0 (Windows NT 10.0; Win64; x64) AppleWebKit/537.36 (KHTML, like Gecko) Chrome/102.0.0.0 Safari/537.36'}\n",
        "  source = requests.get(url, headers=headers)\n",
        "  soup = BeautifulSoup(source.text, \"html.parser\")\n",
        "  h3_title = soup.find_all(\"h3\", {\"class\":\"title\"})\n",
        "\n",
        "  for title in h3_title:\n",
        "    print('Judul Drakor: ' + title.text)\n",
        "\n",
        "    print()\n",
        "\n"
      ],
      "metadata": {
        "id": "udOWyAuyFZf5"
      },
      "execution_count": 74,
      "outputs": []
    },
    {
      "cell_type": "code",
      "source": [
        "def anime(keyword):\n",
        "  url = \"https://anikyojin.org/?s=\" + keyword\n",
        "  headers = {'User-Agent': 'Mozilla/5.0 (Windows NT 10.0; Win64; x64) AppleWebKit/537.36 (KHTML, like Gecko) Chrome/102.0.0.0 Safari/537.36'}\n",
        "  source = requests.get(url, headers=headers)\n",
        "  soup = BeautifulSoup(source.text, \"html.parser\")\n",
        "  h2_title = soup.find_all(\"h2\", {\"class\":\"posttitle\"})\n",
        "  div_info = soup.find_all(\"div\", {\"class\":\"info\"})\n",
        "\n",
        "  for title,info in zip(h2_title,div_info):\n",
        "    print('Judul Anime : ' + title.text)\n",
        "    ul = info.find(\"ul\")\n",
        "    li = ul.find_all(\"li\")\n",
        "    for item in li:\n",
        "      print(item.text.strip())\n",
        "    \n",
        "    print()\n"
      ],
      "metadata": {
        "id": "Poy8Rj4xHNmg"
      },
      "execution_count": 81,
      "outputs": []
    },
    {
      "cell_type": "code",
      "source": [
        "def main():\n",
        "  # result = game(\"need for speed\")\n",
        "\n",
        "  # result = drakor(\"man\")\n",
        "\n",
        "  result = anime(\"shingeki\")\n"
      ],
      "metadata": {
        "id": "DHYBZU8RCp1k"
      },
      "execution_count": 86,
      "outputs": []
    },
    {
      "cell_type": "code",
      "source": [
        "if __name__ == '__main__':\n",
        "  main()"
      ],
      "metadata": {
        "colab": {
          "base_uri": "https://localhost:8080/"
        },
        "id": "iRScR0J3CqFa",
        "outputId": "db372312-c7b9-4647-f2f8-f768b885fc8b"
      },
      "execution_count": 87,
      "outputs": [
        {
          "output_type": "stream",
          "name": "stdout",
          "text": [
            "Judul Anime : Shingeki no Kyojin: The Final Season Part 2 Subtitle Indonesia 1 – 12(END)\n",
            "Date : 04 April 2022\n",
            "Comment : 0\n",
            "Category : Action , Drama , Fantasy , Mistery\n",
            "Tags :  TV\n",
            "\n",
            "Judul Anime : Shingeki no Kyojin: The Final Season Subtitle Indonesia 1 – 16(END)\n",
            "Date : 29 March 2021\n",
            "Comment : 0\n",
            "Category : Action , Drama , Fantasy , Military , Mistery , Shounen , Super Power\n",
            "Tags :  TV\n",
            "\n",
            "Judul Anime : Shingeki no Kyojin Season 3 Part 2 Subtitle Indonesia Episode 1 – 10(END)\n",
            "Date : 30 June 2019\n",
            "Comment : 0\n",
            "Category : Action , Drama , Fantasy , Military , Mistery , Shounen , Super Power\n",
            "Tags :  TV\n",
            "\n",
            "Judul Anime : Shingeki no Kyojin Season 2 BD Subtitle Indonesia Episode 1 – 12(END)\n",
            "Date : 21 November 2018\n",
            "Comment : 0\n",
            "Category : Action , Drama , Fantasy , Shounen , Super Power\n",
            "Tags :  BD\n",
            "\n",
            "Judul Anime : Shingeki no Kyojin Season 3 Subtitle Indonesia Episode 1 – 12\n",
            "Date : 15 October 2018\n",
            "Comment : 0\n",
            "Category : Action\n",
            "Tags :  TV\n",
            "\n",
            "Judul Anime : Shingeki no Bahamut: Virgin Soul BD Subtitle Indonesia 1 – 24(END)\n",
            "Date : 24 June 2018\n",
            "Comment : 0\n",
            "Category : Action , Adventure , Demons , Fantasy , Magic , Supernatural\n",
            "Tags :  BD\n",
            "\n",
            "Judul Anime : Shingeki no Bahamut: Genesis BD Subtitle Indonesia 1 – 12(END)\n",
            "Date : 07 March 2017\n",
            "Comment : 0\n",
            "Category : Action , Adventure , Demons , Fantasy , Magic , Supernatural\n",
            "Tags :  BD\n",
            "\n",
            "Judul Anime : Shingeki no Kyojin BD Subtitle Indonesia 1 – 25(END) + OVA\n",
            "Date : 05 December 2016\n",
            "Comment : 0\n",
            "Category : Action , Drama , Fantasy , Shounen , Super Power\n",
            "Tags :  BD, OVA\n",
            "\n"
          ]
        }
      ]
    }
  ]
}